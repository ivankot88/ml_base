{
 "cells": [
  {
   "cell_type": "code",
   "execution_count": 47,
   "metadata": {},
   "outputs": [],
   "source": [
    "import numpy as np\n",
    "import pandas as pd\n",
    "import sklearn\n",
    "from sklearn.model_selection import KFold\n",
    "from sklearn.neighbors import KNeighborsClassifier"
   ]
  },
  {
   "cell_type": "code",
   "execution_count": 63,
   "metadata": {},
   "outputs": [],
   "source": [
    "data = np.genfromtxt('wine.data', delimiter=',')\n",
    "wine_class = data[:,0]\n",
    "wine_data = data[:,1:]"
   ]
  },
  {
   "cell_type": "code",
   "execution_count": 64,
   "metadata": {
    "scrolled": false
   },
   "outputs": [],
   "source": [
    "cf = KFold(n_splits=5, random_state=42, shuffle=True)\n",
    "cvs = np.array([])\n",
    "for k in range(1,51):\n",
    "    classifer = KNeighborsClassifier(n_neighbors=k)\n",
    "    cvs = np.append(cvs, sklearn.model_selection.cross_val_score(estimator=classifer, \n",
    "                                                                 X = wine_data, y = wine_class, cv=cf,scoring='accuracy'))"
   ]
  },
  {
   "cell_type": "code",
   "execution_count": 65,
   "metadata": {
    "scrolled": false
   },
   "outputs": [],
   "source": [
    "cvs = cvs.reshape((50,5))\n",
    "total = np.array([cvs[i].mean() for i in range(50)])"
   ]
  },
  {
   "cell_type": "code",
   "execution_count": 66,
   "metadata": {},
   "outputs": [
    {
     "name": "stdout",
     "output_type": "stream",
     "text": [
      "0\n",
      "0.7134920634920634\n"
     ]
    }
   ],
   "source": [
    "print(total.argmax())\n",
    "print(total[28])"
   ]
  },
  {
   "cell_type": "code",
   "execution_count": 34,
   "metadata": {},
   "outputs": [],
   "source": [
    "wine_data_mean = sklearn.preprocessing.scale(wine_data)"
   ]
  },
  {
   "cell_type": "code",
   "execution_count": 7,
   "metadata": {},
   "outputs": [],
   "source": [
    "cv = KFold(n_splits=5, random_state=42, shuffle=True)\n",
    "cvs = np.array([])\n",
    "for k in range(1,51):\n",
    "    cvs = np.append(cvs, sklearn.model_selection.cross_val_score(estimator=KNeighborsClassifier(n_neighbors=k), \n",
    "                                                       X = wine_data_mean,y = wine_class, cv=cv,scoring='accuracy'))"
   ]
  },
  {
   "cell_type": "code",
   "execution_count": 8,
   "metadata": {},
   "outputs": [],
   "source": [
    "cvs = cvs.reshape((50,5))\n",
    "total = np.array([cvs[i].mean() for i in range(50)])"
   ]
  },
  {
   "cell_type": "code",
   "execution_count": 9,
   "metadata": {},
   "outputs": [
    {
     "name": "stdout",
     "output_type": "stream",
     "text": [
      "28\n",
      "0.943968253968254\n"
     ]
    }
   ],
   "source": [
    "print(total.argmax())\n",
    "print(total[0])"
   ]
  },
  {
   "cell_type": "markdown",
   "metadata": {},
   "source": [
    "## Вывод\n",
    "После масштабирования признаков релу"
   ]
  },
  {
   "cell_type": "code",
   "execution_count": null,
   "metadata": {},
   "outputs": [],
   "source": []
  }
 ],
 "metadata": {
  "kernelspec": {
   "display_name": "Python 3",
   "language": "python",
   "name": "python3"
  },
  "language_info": {
   "codemirror_mode": {
    "name": "ipython",
    "version": 3
   },
   "file_extension": ".py",
   "mimetype": "text/x-python",
   "name": "python",
   "nbconvert_exporter": "python",
   "pygments_lexer": "ipython3",
   "version": "3.7.6"
  }
 },
 "nbformat": 4,
 "nbformat_minor": 2
}
