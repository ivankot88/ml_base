{
 "cells": [
  {
   "cell_type": "code",
   "execution_count": 35,
   "metadata": {},
   "outputs": [],
   "source": [
    "import pandas as pd\n",
    "import sklearn\n",
    "import numpy as np\n",
    "from sklearn.metrics import accuracy_score,precision_score,recall_score,f1_score, roc_auc_score, precision_recall_curve"
   ]
  },
  {
   "cell_type": "code",
   "execution_count": 8,
   "metadata": {},
   "outputs": [],
   "source": [
    "clf = pd.read_csv('classification.csv')"
   ]
  },
  {
   "cell_type": "code",
   "execution_count": 28,
   "metadata": {},
   "outputs": [
    {
     "name": "stdout",
     "output_type": "stream",
     "text": [
      "43 34 59 64\n"
     ]
    }
   ],
   "source": [
    "TP = 0\n",
    "FP = 0\n",
    "TN = 0\n",
    "FN = 0\n",
    "for i in range(clf.shape[0]):\n",
    "    if clf['true'][i] == 1 and clf['pred'][i] == 1:\n",
    "        TP += 1\n",
    "    if clf['true'][i] == 1 and clf['pred'][i] == 0:\n",
    "        FN += 1\n",
    "    if clf['true'][i] == 0 and clf['pred'][i] == 1:\n",
    "        FP += 1\n",
    "    if clf['true'][i] == 0 and clf['pred'][i] == 0:\n",
    "        TN += 1\n",
    "print(TP, FP, FN, TN)"
   ]
  },
  {
   "cell_type": "code",
   "execution_count": 14,
   "metadata": {},
   "outputs": [
    {
     "name": "stdout",
     "output_type": "stream",
     "text": [
      "0.535\n",
      "0.5584415584415584\n",
      "0.4215686274509804\n",
      "0.48044692737430167\n"
     ]
    }
   ],
   "source": [
    "print(accuracy_score(clf['true'],clf['pred']))\n",
    "print(precision_score(clf['true'],clf['pred']))\n",
    "print(recall_score(clf['true'],clf['pred']))\n",
    "print(f1_score(clf['true'],clf['pred']))"
   ]
  },
  {
   "cell_type": "code",
   "execution_count": 29,
   "metadata": {},
   "outputs": [],
   "source": [
    "clfs = pd.read_csv('scores.csv')"
   ]
  },
  {
   "cell_type": "code",
   "execution_count": 33,
   "metadata": {},
   "outputs": [],
   "source": [
    "roc1 = roc_auc_score(clfs['true'],clfs['score_logreg'])\n",
    "roc2 = roc_auc_score(clfs['true'],clfs['score_svm'])\n",
    "roc3 = roc_auc_score(clfs['true'],clfs['score_knn'])\n",
    "roc4 = roc_auc_score(clfs['true'],clfs['score_tree'])"
   ]
  },
  {
   "cell_type": "code",
   "execution_count": 34,
   "metadata": {},
   "outputs": [
    {
     "name": "stdout",
     "output_type": "stream",
     "text": [
      "0.719187675070028 0.7086834733893557 0.6351540616246498 0.6919267707082833\n"
     ]
    }
   ],
   "source": [
    "print(roc1,roc2,roc3,roc4)"
   ]
  },
  {
   "cell_type": "code",
   "execution_count": 37,
   "metadata": {},
   "outputs": [],
   "source": [
    "prc1 = precision_recall_curve(clfs['true'],clfs['score_logreg'])\n",
    "prc2 = precision_recall_curve(clfs['true'],clfs['score_svm'])\n",
    "prc3 = precision_recall_curve(clfs['true'],clfs['score_knn'])\n",
    "prc4 = precision_recall_curve(clfs['true'],clfs['score_tree'])"
   ]
  },
  {
   "cell_type": "code",
   "execution_count": null,
   "metadata": {},
   "outputs": [],
   "source": []
  },
  {
   "cell_type": "code",
   "execution_count": 117,
   "metadata": {},
   "outputs": [],
   "source": [
    "maxx = np.array([0.0,0.0,0.0,0.0])\n",
    "for i in range(prc1[0].shape[0]):\n",
    "    if prc1[1][i] >= 0.7 and prc1[0][i] > maxx[0]:\n",
    "        maxx[0] = prc1[0][i]\n",
    "for i in range(prc2[0].shape[0]):\n",
    "    if prc2[1][i] >= 0.7 and prc2[0][i] > maxx[1]:\n",
    "        maxx[1] = prc2[0][i]\n",
    "for i in range(prc3[0].shape[0]):\n",
    "    if prc3[1][i] >= 0.7 and prc3[0][i] > maxx[2]:\n",
    "        maxx[2] = prc3[0][i]\n",
    "for i in range(prc4[0].shape[0]):\n",
    "    if prc4[1][i] >= 0.7 and prc4[0][i] > maxx[3]:\n",
    "        maxx[3] = prc4[0][i]"
   ]
  },
  {
   "cell_type": "code",
   "execution_count": 118,
   "metadata": {},
   "outputs": [
    {
     "data": {
      "text/plain": [
       "array([0.6302521 , 0.62280702, 0.60655738, 0.65178571])"
      ]
     },
     "execution_count": 118,
     "metadata": {},
     "output_type": "execute_result"
    }
   ],
   "source": [
    "maxx"
   ]
  },
  {
   "cell_type": "markdown",
   "metadata": {},
   "source": [
    "## Вывод\n",
    "\n",
    "Логистическая регрессия имеет самый высокий показатель AUC-ROC\n",
    "\n",
    "Наилучшую точность при таком ограничении показывает решающее дерево"
   ]
  }
 ],
 "metadata": {
  "kernelspec": {
   "display_name": "Python 3",
   "language": "python",
   "name": "python3"
  },
  "language_info": {
   "codemirror_mode": {
    "name": "ipython",
    "version": 3
   },
   "file_extension": ".py",
   "mimetype": "text/x-python",
   "name": "python",
   "nbconvert_exporter": "python",
   "pygments_lexer": "ipython3",
   "version": "3.7.6"
  }
 },
 "nbformat": 4,
 "nbformat_minor": 4
}
