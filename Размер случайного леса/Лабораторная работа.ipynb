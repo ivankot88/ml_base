{
 "cells": [
  {
   "cell_type": "code",
   "execution_count": 1,
   "metadata": {},
   "outputs": [],
   "source": [
    "import numpy as np\n",
    "import pandas as pd\n",
    "from sklearn.metrics import r2_score\n",
    "from sklearn.ensemble import RandomForestRegressor\n",
    "from sklearn.model_selection import KFold\n",
    "from sklearn.model_selection import cross_val_score\n",
    "from sklearn.linear_model import LogisticRegression"
   ]
  },
  {
   "cell_type": "code",
   "execution_count": 30,
   "metadata": {},
   "outputs": [],
   "source": [
    "data = pd.read_csv('abalone.csv')"
   ]
  },
  {
   "cell_type": "code",
   "execution_count": 31,
   "metadata": {},
   "outputs": [],
   "source": [
    "data['Sex'] = data['Sex'].map(lambda x: 1 if x == 'M' else (-1 if x == 'F' else 0))"
   ]
  },
  {
   "cell_type": "code",
   "execution_count": 32,
   "metadata": {},
   "outputs": [],
   "source": [
    "y = data['Rings']\n",
    "del data['Rings']\n",
    "X = data"
   ]
  },
  {
   "cell_type": "code",
   "execution_count": 40,
   "metadata": {},
   "outputs": [],
   "source": [
    "kf = KFold(n_splits=5,shuffle=True,random_state=1)"
   ]
  },
  {
   "cell_type": "code",
   "execution_count": 52,
   "metadata": {},
   "outputs": [
    {
     "name": "stdout",
     "output_type": "stream",
     "text": [
      "1 кол. деревьев, Ошибка: 0.10967482068860261\n",
      "2 кол. деревьев, Ошибка: 0.3413000096365689\n",
      "3 кол. деревьев, Ошибка: 0.406433829066129\n",
      "4 кол. деревьев, Ошибка: 0.4447745857536912\n",
      "5 кол. деревьев, Ошибка: 0.46503241426823594\n",
      "6 кол. деревьев, Ошибка: 0.47139595825898917\n",
      "7 кол. деревьев, Ошибка: 0.4766658451893487\n",
      "8 кол. деревьев, Ошибка: 0.4829348394224631\n",
      "9 кол. деревьев, Ошибка: 0.4894370162945041\n",
      "10 кол. деревьев, Ошибка: 0.4954085552428177\n",
      "11 кол. деревьев, Ошибка: 0.4944111155773555\n",
      "12 кол. деревьев, Ошибка: 0.49902817866563326\n",
      "13 кол. деревьев, Ошибка: 0.5030578549564464\n",
      "14 кол. деревьев, Ошибка: 0.5073168234618861\n",
      "15 кол. деревьев, Ошибка: 0.5091809969556578\n",
      "16 кол. деревьев, Ошибка: 0.5114105314179662\n",
      "17 кол. деревьев, Ошибка: 0.5148917747729636\n",
      "18 кол. деревьев, Ошибка: 0.5172203573170132\n",
      "19 кол. деревьев, Ошибка: 0.5198293095329432\n",
      "20 кол. деревьев, Ошибка: 0.51948435033775\n",
      "21 кол. деревьев, Ошибка: 0.520529096463528\n",
      "22 кол. деревьев, Ошибка: 0.5208044230080824\n",
      "23 кол. деревьев, Ошибка: 0.521742855685855\n",
      "24 кол. деревьев, Ошибка: 0.5231059969795335\n",
      "25 кол. деревьев, Ошибка: 0.5232486470488318\n",
      "26 кол. деревьев, Ошибка: 0.5243076139284634\n",
      "27 кол. деревьев, Ошибка: 0.5246393588459404\n",
      "28 кол. деревьев, Ошибка: 0.5256557724971402\n",
      "29 кол. деревьев, Ошибка: 0.5265556293057552\n",
      "30 кол. деревьев, Ошибка: 0.5270858715838138\n",
      "31 кол. деревьев, Ошибка: 0.5276420438225101\n",
      "32 кол. деревьев, Ошибка: 0.5289244806388986\n",
      "33 кол. деревьев, Ошибка: 0.5301073722643779\n",
      "34 кол. деревьев, Ошибка: 0.5299613734264366\n",
      "35 кол. деревьев, Ошибка: 0.5298209779129148\n",
      "36 кол. деревьев, Ошибка: 0.529910050667947\n",
      "37 кол. деревьев, Ошибка: 0.5294320415136227\n",
      "38 кол. деревьев, Ошибка: 0.5294715388671245\n",
      "39 кол. деревьев, Ошибка: 0.529515898349607\n",
      "40 кол. деревьев, Ошибка: 0.5294703580378128\n",
      "41 кол. деревьев, Ошибка: 0.5298087685207094\n",
      "42 кол. деревьев, Ошибка: 0.5300433306143383\n",
      "43 кол. деревьев, Ошибка: 0.5299135764090978\n",
      "44 кол. деревьев, Ошибка: 0.5296814957917958\n",
      "45 кол. деревьев, Ошибка: 0.528908112349864\n",
      "46 кол. деревьев, Ошибка: 0.5290083070325597\n",
      "47 кол. деревьев, Ошибка: 0.5291786571646144\n",
      "48 кол. деревьев, Ошибка: 0.5300509396315634\n",
      "49 кол. деревьев, Ошибка: 0.530813058616495\n",
      "50 кол. деревьев, Ошибка: 0.5309509147417047\n"
     ]
    }
   ],
   "source": [
    "for i in range(1,51):\n",
    "    classifer = RandomForestRegressor(random_state=1, n_estimators=i)\n",
    "    temp = np.array([])\n",
    "    for train_index, test_index in kf.split(X):\n",
    "        X_train, X_test = X.loc[train_index],X.loc[test_index]\n",
    "        y_train, y_test = y.loc[train_index],y.loc[test_index]\n",
    "        classifer.fit(X_train,y_train)\n",
    "        predictions = classifer.predict(X_test)\n",
    "        temp = np.append(temp, r2_score(y_test,predictions))\n",
    "    print(str(i)+' кол. деревьев, Ошибка:', temp.mean())"
   ]
  },
  {
   "cell_type": "code",
   "execution_count": null,
   "metadata": {},
   "outputs": [],
   "source": []
  },
  {
   "cell_type": "code",
   "execution_count": null,
   "metadata": {},
   "outputs": [],
   "source": []
  }
 ],
 "metadata": {
  "kernelspec": {
   "display_name": "Python 3",
   "language": "python",
   "name": "python3"
  },
  "language_info": {
   "codemirror_mode": {
    "name": "ipython",
    "version": 3
   },
   "file_extension": ".py",
   "mimetype": "text/x-python",
   "name": "python",
   "nbconvert_exporter": "python",
   "pygments_lexer": "ipython3",
   "version": "3.7.4"
  }
 },
 "nbformat": 4,
 "nbformat_minor": 2
}
