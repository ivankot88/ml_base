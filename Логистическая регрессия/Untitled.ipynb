{
 "cells": [
  {
   "cell_type": "code",
   "execution_count": 106,
   "metadata": {},
   "outputs": [],
   "source": [
    "import numpy as np\n",
    "import pandas as pd\n",
    "import math\n",
    "from scipy.spatial import distance\n",
    "from sklearn.metrics import roc_auc_score"
   ]
  },
  {
   "cell_type": "code",
   "execution_count": 107,
   "metadata": {},
   "outputs": [],
   "source": [
    "X = pd.read_csv('data-logistic.csv',header = None)\n",
    "y = X[0]\n",
    "del X[0]"
   ]
  },
  {
   "cell_type": "code",
   "execution_count": 108,
   "metadata": {},
   "outputs": [],
   "source": [
    "w_1,w_2 = 0,0\n",
    "C = 10\n",
    "k = 0.1"
   ]
  },
  {
   "cell_type": "code",
   "execution_count": 109,
   "metadata": {},
   "outputs": [],
   "source": [
    "for j in range(10000):\n",
    "    w_new_1 = w_1 + (k/X.shape[0])*sum([(X[1][l]*y[l]*(1-1/(1+math.e**(-y[l]*(w_1*X[1][l] +w_2*X[2][l]))))) for l in range(X.shape[0])])\n",
    "    w_new_2 = w_2 + (k/X.shape[0])*sum([(X[2][l]*y[l]*(1-1/(1+math.e**(-y[l]*(w_1*X[1][l] +w_2*X[2][l]))))) for l in range(X.shape[0])])\n",
    "    if distance.euclidean(w_new_1, w_1) < 1e-5 or distance.euclidean(w_new_2, w_2) < 1e-5:\n",
    "        break\n",
    "    w_1 = w_new_1\n",
    "    w_2 = w_new_2"
   ]
  },
  {
   "cell_type": "code",
   "execution_count": 110,
   "metadata": {},
   "outputs": [],
   "source": [
    "auc = roc_auc_score(y,1/(1+math.e**(X.dot(np.array([-w_1,-w_2])))))"
   ]
  },
  {
   "cell_type": "code",
   "execution_count": 111,
   "metadata": {},
   "outputs": [
    {
     "data": {
      "text/plain": [
       "0.9268571428571428"
      ]
     },
     "execution_count": 111,
     "metadata": {},
     "output_type": "execute_result"
    }
   ],
   "source": [
    "auc"
   ]
  },
  {
   "cell_type": "code",
   "execution_count": 112,
   "metadata": {},
   "outputs": [],
   "source": [
    "w_1,w_2 = 0,0\n",
    "C = 10\n",
    "k = 0.1"
   ]
  },
  {
   "cell_type": "code",
   "execution_count": 113,
   "metadata": {},
   "outputs": [],
   "source": [
    "for j in range(10000):\n",
    "    w_new_1 = w_1 + (k/X.shape[0])*sum([(X[1][l]*y[l]*(1-1/(1+math.e**(-y[l]*(w_1*X[1][l] +w_2*X[2][l]))))) for l in range(X.shape[0])])-k*C*w_1\n",
    "    w_new_2 = w_2 + (k/X.shape[0])*sum([(X[2][l]*y[l]*(1-1/(1+math.e**(-y[l]*(w_1*X[1][l] +w_2*X[2][l]))))) for l in range(X.shape[0])])-k*C*w_2\n",
    "    if distance.euclidean(w_new_1, w_1) < 1e-5 or distance.euclidean(w_new_2, w_2) < 1e-5:\n",
    "        break\n",
    "    w_1 = w_new_1\n",
    "    w_2 = w_new_2"
   ]
  },
  {
   "cell_type": "code",
   "execution_count": 114,
   "metadata": {},
   "outputs": [],
   "source": [
    "auc = roc_auc_score(y,1/(1+math.e**(X.dot(np.array([-w_1,-w_2])))))"
   ]
  },
  {
   "cell_type": "code",
   "execution_count": 115,
   "metadata": {},
   "outputs": [
    {
     "data": {
      "text/plain": [
       "0.9362857142857142"
      ]
     },
     "execution_count": 115,
     "metadata": {},
     "output_type": "execute_result"
    }
   ],
   "source": [
    "auc"
   ]
  },
  {
   "cell_type": "markdown",
   "metadata": {},
   "source": [
    "## Вывод\n",
    "Качество классификатора выше с регулязирацией"
   ]
  }
 ],
 "metadata": {
  "kernelspec": {
   "display_name": "Python 3",
   "language": "python",
   "name": "python3"
  },
  "language_info": {
   "codemirror_mode": {
    "name": "ipython",
    "version": 3
   },
   "file_extension": ".py",
   "mimetype": "text/x-python",
   "name": "python",
   "nbconvert_exporter": "python",
   "pygments_lexer": "ipython3",
   "version": "3.7.4"
  }
 },
 "nbformat": 4,
 "nbformat_minor": 4
}
